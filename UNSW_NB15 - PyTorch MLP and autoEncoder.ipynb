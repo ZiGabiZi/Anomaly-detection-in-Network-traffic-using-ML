{
 "cells": [
  {
   "cell_type": "markdown",
   "metadata": {
    "colab_type": "text",
    "id": "view-in-github"
   },
   "source": [
    "<a href=\"https://colab.research.google.com/github/alik604/cyber-security/blob/master/Intrusion-Detection/UNSW_NB15%20-%20Torch%20MLP%20and%20autoEncoder.ipynb\" target=\"_parent\"><img src=\"https://colab.research.google.com/assets/colab-badge.svg\" alt=\"Open In Colab\"/></a>"
   ]
  },
  {
   "cell_type": "code",
   "execution_count": 15,
   "metadata": {},
   "outputs": [],
   "source": [
    "# !pip install tabulate"
   ]
  },
  {
   "cell_type": "code",
   "execution_count": 16,
   "metadata": {
    "id": "4NZuC1Fk8t7t"
   },
   "outputs": [],
   "source": [
    "%config IPCompleter.greedy=True\n",
    "import pandas as pd\n",
    "import numpy as np\n",
    "import scipy\n",
    "\n",
    "import matplotlib\n",
    "import matplotlib.pyplot as plt\n",
    "%matplotlib inline\n",
    "\n",
    "import sklearn\n",
    "from sklearn.decomposition import * \n",
    "from sklearn.model_selection import train_test_split\n",
    "from sklearn.preprocessing import *\n",
    "from sklearn.tree import DecisionTreeClassifier\n",
    "from sklearn.ensemble import RandomForestClassifier, ExtraTreesClassifier, VotingClassifier\n",
    "\n",
    "import torch\n",
    "import torch.nn as nn \n",
    "\n",
    "\n",
    "# import warnings\n",
    "# warnings.filterwarnings(\"ignore\")\n",
    "\n",
    "from IPython.core.interactiveshell import InteractiveShell\n",
    "InteractiveShell.ast_node_interactivity = \"all\"\n",
    "\n",
    "DLed = False"
   ]
  },
  {
   "cell_type": "code",
   "execution_count": 17,
   "metadata": {
    "colab": {
     "base_uri": "https://localhost:8080/",
     "height": 236
    },
    "id": "p1xx6RqX8t71",
    "outputId": "5a712c67-8932-4c70-cc9d-d342996531e7"
   },
   "outputs": [
    {
     "data": {
      "text/plain": [
       "(257673, 43)"
      ]
     },
     "execution_count": 17,
     "metadata": {},
     "output_type": "execute_result"
    },
    {
     "data": {
      "text/html": [
       "<div>\n",
       "<style scoped>\n",
       "    .dataframe tbody tr th:only-of-type {\n",
       "        vertical-align: middle;\n",
       "    }\n",
       "\n",
       "    .dataframe tbody tr th {\n",
       "        vertical-align: top;\n",
       "    }\n",
       "\n",
       "    .dataframe thead th {\n",
       "        text-align: right;\n",
       "    }\n",
       "</style>\n",
       "<table border=\"1\" class=\"dataframe\">\n",
       "  <thead>\n",
       "    <tr style=\"text-align: right;\">\n",
       "      <th></th>\n",
       "      <th>dur</th>\n",
       "      <th>proto</th>\n",
       "      <th>service</th>\n",
       "      <th>state</th>\n",
       "      <th>spkts</th>\n",
       "      <th>dpkts</th>\n",
       "      <th>sbytes</th>\n",
       "      <th>dbytes</th>\n",
       "      <th>rate</th>\n",
       "      <th>sttl</th>\n",
       "      <th>...</th>\n",
       "      <th>ct_src_dport_ltm</th>\n",
       "      <th>ct_dst_sport_ltm</th>\n",
       "      <th>ct_dst_src_ltm</th>\n",
       "      <th>is_ftp_login</th>\n",
       "      <th>ct_ftp_cmd</th>\n",
       "      <th>ct_flw_http_mthd</th>\n",
       "      <th>ct_src_ltm</th>\n",
       "      <th>ct_srv_dst</th>\n",
       "      <th>is_sm_ips_ports</th>\n",
       "      <th>attack_cat</th>\n",
       "    </tr>\n",
       "  </thead>\n",
       "  <tbody>\n",
       "    <tr>\n",
       "      <th>0</th>\n",
       "      <td>0.121478</td>\n",
       "      <td>tcp</td>\n",
       "      <td>-</td>\n",
       "      <td>FIN</td>\n",
       "      <td>6</td>\n",
       "      <td>4</td>\n",
       "      <td>258</td>\n",
       "      <td>172</td>\n",
       "      <td>74.087490</td>\n",
       "      <td>252</td>\n",
       "      <td>...</td>\n",
       "      <td>1</td>\n",
       "      <td>1</td>\n",
       "      <td>1</td>\n",
       "      <td>0</td>\n",
       "      <td>0</td>\n",
       "      <td>0</td>\n",
       "      <td>1</td>\n",
       "      <td>1</td>\n",
       "      <td>0</td>\n",
       "      <td>Normal</td>\n",
       "    </tr>\n",
       "    <tr>\n",
       "      <th>1</th>\n",
       "      <td>0.649902</td>\n",
       "      <td>tcp</td>\n",
       "      <td>-</td>\n",
       "      <td>FIN</td>\n",
       "      <td>14</td>\n",
       "      <td>38</td>\n",
       "      <td>734</td>\n",
       "      <td>42014</td>\n",
       "      <td>78.473372</td>\n",
       "      <td>62</td>\n",
       "      <td>...</td>\n",
       "      <td>1</td>\n",
       "      <td>1</td>\n",
       "      <td>2</td>\n",
       "      <td>0</td>\n",
       "      <td>0</td>\n",
       "      <td>0</td>\n",
       "      <td>1</td>\n",
       "      <td>6</td>\n",
       "      <td>0</td>\n",
       "      <td>Normal</td>\n",
       "    </tr>\n",
       "    <tr>\n",
       "      <th>2</th>\n",
       "      <td>1.623129</td>\n",
       "      <td>tcp</td>\n",
       "      <td>-</td>\n",
       "      <td>FIN</td>\n",
       "      <td>8</td>\n",
       "      <td>16</td>\n",
       "      <td>364</td>\n",
       "      <td>13186</td>\n",
       "      <td>14.170161</td>\n",
       "      <td>62</td>\n",
       "      <td>...</td>\n",
       "      <td>1</td>\n",
       "      <td>1</td>\n",
       "      <td>3</td>\n",
       "      <td>0</td>\n",
       "      <td>0</td>\n",
       "      <td>0</td>\n",
       "      <td>2</td>\n",
       "      <td>6</td>\n",
       "      <td>0</td>\n",
       "      <td>Normal</td>\n",
       "    </tr>\n",
       "    <tr>\n",
       "      <th>3</th>\n",
       "      <td>1.681642</td>\n",
       "      <td>tcp</td>\n",
       "      <td>ftp</td>\n",
       "      <td>FIN</td>\n",
       "      <td>12</td>\n",
       "      <td>12</td>\n",
       "      <td>628</td>\n",
       "      <td>770</td>\n",
       "      <td>13.677108</td>\n",
       "      <td>62</td>\n",
       "      <td>...</td>\n",
       "      <td>1</td>\n",
       "      <td>1</td>\n",
       "      <td>3</td>\n",
       "      <td>1</td>\n",
       "      <td>1</td>\n",
       "      <td>0</td>\n",
       "      <td>2</td>\n",
       "      <td>1</td>\n",
       "      <td>0</td>\n",
       "      <td>Normal</td>\n",
       "    </tr>\n",
       "    <tr>\n",
       "      <th>4</th>\n",
       "      <td>0.449454</td>\n",
       "      <td>tcp</td>\n",
       "      <td>-</td>\n",
       "      <td>FIN</td>\n",
       "      <td>10</td>\n",
       "      <td>6</td>\n",
       "      <td>534</td>\n",
       "      <td>268</td>\n",
       "      <td>33.373826</td>\n",
       "      <td>254</td>\n",
       "      <td>...</td>\n",
       "      <td>2</td>\n",
       "      <td>1</td>\n",
       "      <td>40</td>\n",
       "      <td>0</td>\n",
       "      <td>0</td>\n",
       "      <td>0</td>\n",
       "      <td>2</td>\n",
       "      <td>39</td>\n",
       "      <td>0</td>\n",
       "      <td>Normal</td>\n",
       "    </tr>\n",
       "  </tbody>\n",
       "</table>\n",
       "<p>5 rows × 43 columns</p>\n",
       "</div>"
      ],
      "text/plain": [
       "        dur proto service state  spkts  dpkts  sbytes  dbytes       rate  \\\n",
       "0  0.121478   tcp       -   FIN      6      4     258     172  74.087490   \n",
       "1  0.649902   tcp       -   FIN     14     38     734   42014  78.473372   \n",
       "2  1.623129   tcp       -   FIN      8     16     364   13186  14.170161   \n",
       "3  1.681642   tcp     ftp   FIN     12     12     628     770  13.677108   \n",
       "4  0.449454   tcp       -   FIN     10      6     534     268  33.373826   \n",
       "\n",
       "   sttl  ...  ct_src_dport_ltm  ct_dst_sport_ltm  ct_dst_src_ltm  \\\n",
       "0   252  ...                 1                 1               1   \n",
       "1    62  ...                 1                 1               2   \n",
       "2    62  ...                 1                 1               3   \n",
       "3    62  ...                 1                 1               3   \n",
       "4   254  ...                 2                 1              40   \n",
       "\n",
       "   is_ftp_login  ct_ftp_cmd  ct_flw_http_mthd  ct_src_ltm  ct_srv_dst  \\\n",
       "0             0           0                 0           1           1   \n",
       "1             0           0                 0           1           6   \n",
       "2             0           0                 0           2           6   \n",
       "3             1           1                 0           2           1   \n",
       "4             0           0                 0           2          39   \n",
       "\n",
       "   is_sm_ips_ports  attack_cat  \n",
       "0                0      Normal  \n",
       "1                0      Normal  \n",
       "2                0      Normal  \n",
       "3                0      Normal  \n",
       "4                0      Normal  \n",
       "\n",
       "[5 rows x 43 columns]"
      ]
     },
     "execution_count": 17,
     "metadata": {},
     "output_type": "execute_result"
    }
   ],
   "source": [
    "if not DLed:\n",
    "    train = pd.read_csv('https://raw.githubusercontent.com/Nir-J/ML-Projects/master/UNSW-Network_Packet_Classification/UNSW_NB15_training-set.csv')\n",
    "    test = pd.read_csv('https://raw.githubusercontent.com/Nir-J/ML-Projects/master/UNSW-Network_Packet_Classification/UNSW_NB15_testing-set.csv')\n",
    "    DLed = True\n",
    "    \n",
    "combined_data = pd.concat([train, test]).drop(columns=['id', 'label'])\n",
    "combined_data.shape\n",
    "combined_data.head(5)"
   ]
  },
  {
   "cell_type": "code",
   "execution_count": 18,
   "metadata": {
    "colab": {
     "base_uri": "https://localhost:8080/",
     "height": 54
    },
    "id": "SFWVaeB18t7-",
    "outputId": "dd2e1290-2da8-408b-92d5-f0d112d26386"
   },
   "outputs": [
    {
     "name": "stdout",
     "output_type": "stream",
     "text": [
      "Train  0.31938\n",
      "Test  0.4494\n"
     ]
    }
   ],
   "source": [
    "tmp = train.where(train['attack_cat'] == \"Normal\").dropna()\n",
    "print('Train ', round(len(tmp['attack_cat'])/len(train['attack_cat']),5))\n",
    "\n",
    "tmp = test.where(test['attack_cat'] == \"Normal\").dropna()\n",
    "print('Test ', round(len(tmp['attack_cat'])/len(test['attack_cat']),5))\n",
    "\n",
    "# del train, test"
   ]
  },
  {
   "cell_type": "code",
   "execution_count": 19,
   "metadata": {
    "colab": {
     "base_uri": "https://localhost:8080/",
     "height": 145
    },
    "id": "WAIu3z8U8t8e",
    "outputId": "d6bd8e28-5976-437b-8609-3fa78fdd65cc"
   },
   "outputs": [
    {
     "name": "stdout",
     "output_type": "stream",
     "text": [
      "attack cats: ['Analysis', 'Exploits', 'Shellcode', 'Worms', 'DoS', 'Normal', 'Backdoor', 'Generic', 'Reconnaissance', 'Fuzzers']\n",
      "\n",
      "Describing attack types: \n",
      "mode 0    Normal\n",
      "Name: attack_cat, dtype: object\n",
      "mode 0.36%\n",
      "looks like 6 is 'normal', but its not that common\n"
     ]
    }
   ],
   "source": [
    "le = LabelEncoder()\n",
    "\n",
    "vector = combined_data['attack_cat']\n",
    "print(\"attack cats:\", list(set(list(vector)))) # use print to make it print on single line \n",
    "\n",
    "combined_data['attack_cat'] = le.fit_transform(vector)\n",
    "combined_data['proto'] = le.fit_transform(combined_data['proto'])\n",
    "combined_data['service'] = le.fit_transform(combined_data['service'])\n",
    "combined_data['state'] = le.fit_transform(combined_data['state'])\n",
    "\n",
    "print('\\nDescribing attack types: ')\n",
    "\n",
    "print(\"mode\", vector.mode())\n",
    "print(f\"mode {np.sum(combined_data['attack_cat'].values==6)/vector.shape[0]:.2f}%\") # alt numerator:  len(np.where(combined_data['attack_cat'].values==6)[0])\n",
    "\n",
    "print(\"looks like 6 is 'normal', but its not that common\")"
   ]
  },
  {
   "cell_type": "code",
   "execution_count": 20,
   "metadata": {
    "colab": {
     "base_uri": "https://localhost:8080/",
     "height": 235
    },
    "id": "-kZ7v4Ix8t8i",
    "outputId": "f2ce42f0-5215-4ee5-da7f-1f707e3ef87d"
   },
   "outputs": [
    {
     "name": "stdout",
     "output_type": "stream",
     "text": [
      "Type              Occurences\n",
      "--------------  ------------\n",
      "Normal                 93000\n",
      "Generic                58871\n",
      "Exploits               44525\n",
      "Fuzzers                24246\n",
      "DoS                    16353\n",
      "Reconnaissance         13987\n",
      "Analysis                2677\n",
      "Backdoor                2329\n",
      "Shellcode               1511\n",
      "Worms                    174\n"
     ]
    }
   ],
   "source": [
    "import collections\n",
    "from tabulate import tabulate\n",
    "\n",
    "counter = collections.Counter(vector)  \n",
    "print(tabulate(counter.most_common(),headers = ['Type','Occurences']))"
   ]
  },
  {
   "cell_type": "code",
   "execution_count": 21,
   "metadata": {
    "id": "E6sd0tUT8t8l"
   },
   "outputs": [],
   "source": [
    "COPY = combined_data.copy(deep=True)"
   ]
  },
  {
   "cell_type": "code",
   "execution_count": 22,
   "metadata": {
    "id": "wNVXJaYb8t8p"
   },
   "outputs": [],
   "source": [
    "combined_data = COPY\n",
    "assert COPY.shape == combined_data.shape\n",
    "\n",
    "lowSTD = list(combined_data.std().to_frame().nsmallest(7, columns=0).index)\n",
    "lowCORR = list(combined_data.corr().abs().sort_values('attack_cat')['attack_cat'].nsmallest(7).index) # .where(lambda x: x < 0.005).dropna()"
   ]
  },
  {
   "cell_type": "code",
   "execution_count": 23,
   "metadata": {
    "colab": {
     "base_uri": "https://localhost:8080/",
     "height": 90
    },
    "id": "2q0WI4LX8t8v",
    "outputId": "54b1d464-5e6d-424b-9b9d-6edfb20b9c82"
   },
   "outputs": [
    {
     "name": "stdout",
     "output_type": "stream",
     "text": [
      "shape before: (257673, 43)\n",
      "replace the following with their PCA(3) - ['sjit', 'response_body_len', 'djit', 'dinpkt', 'dbytes', 'spkts', 'dloss', 'ackdat', 'synack', 'tcprtt', 'is_ftp_login', 'ct_ftp_cmd', 'is_sm_ips_ports', 'ct_flw_http_mthd']\n",
      "explained_variance_ratio_ is 0.9995382828842387\n",
      "shape after: (257673, 32)\n"
     ]
    }
   ],
   "source": [
    "exclude = list(lowCORR + lowSTD)\n",
    "if 'attack_cat' in exclude:\n",
    "  exclude.remove('attack_cat')\n",
    "\n",
    "print('shape before:', combined_data.shape)\n",
    "print('replace the following with their PCA(3) -', exclude)\n",
    "\n",
    "# dim_reduct = SparsePCA(10, n_jobs = -1).fit_transform(combined_data)\n",
    "# dim_reduct = TruncatedSVD(4).fit_transform(combined_data[exclude])\n",
    "pca = PCA(3)\n",
    "dim_reduct = pca.fit_transform(combined_data[exclude])\n",
    "\n",
    "print(\"explained_variance_ratio_ is\", sum(pca.explained_variance_ratio_))\n",
    "\n",
    "combined_data.drop(exclude,axis=1,inplace=True)\n",
    "\n",
    "dim_reduction = pd.DataFrame(dim_reduct)\n",
    "combined_data = combined_data.join(dim_reduction)\n",
    "\n",
    "print('shape after:', combined_data.shape)\n"
   ]
  },
  {
   "cell_type": "code",
   "execution_count": 24,
   "metadata": {
    "colab": {
     "base_uri": "https://localhost:8080/",
     "height": 236
    },
    "id": "KMc5Eklk3-YX",
    "outputId": "b61ceaa7-60e4-4edc-ff78-e90a5cb39273"
   },
   "outputs": [
    {
     "name": "stdout",
     "output_type": "stream",
     "text": [
      "combined_data.dur is scaled up by 10,000\n"
     ]
    },
    {
     "data": {
      "text/html": [
       "<div>\n",
       "<style scoped>\n",
       "    .dataframe tbody tr th:only-of-type {\n",
       "        vertical-align: middle;\n",
       "    }\n",
       "\n",
       "    .dataframe tbody tr th {\n",
       "        vertical-align: top;\n",
       "    }\n",
       "\n",
       "    .dataframe thead th {\n",
       "        text-align: right;\n",
       "    }\n",
       "</style>\n",
       "<table border=\"1\" class=\"dataframe\">\n",
       "  <thead>\n",
       "    <tr style=\"text-align: right;\">\n",
       "      <th></th>\n",
       "      <th>dur</th>\n",
       "      <th>proto</th>\n",
       "      <th>service</th>\n",
       "      <th>state</th>\n",
       "      <th>dpkts</th>\n",
       "      <th>sbytes</th>\n",
       "      <th>rate</th>\n",
       "      <th>sttl</th>\n",
       "      <th>dttl</th>\n",
       "      <th>sload</th>\n",
       "      <th>...</th>\n",
       "      <th>ct_dst_ltm</th>\n",
       "      <th>ct_src_dport_ltm</th>\n",
       "      <th>ct_dst_sport_ltm</th>\n",
       "      <th>ct_dst_src_ltm</th>\n",
       "      <th>ct_src_ltm</th>\n",
       "      <th>ct_srv_dst</th>\n",
       "      <th>attack_cat</th>\n",
       "      <th>0</th>\n",
       "      <th>1</th>\n",
       "      <th>2</th>\n",
       "    </tr>\n",
       "  </thead>\n",
       "  <tbody>\n",
       "    <tr>\n",
       "      <th>0</th>\n",
       "      <td>1214.78</td>\n",
       "      <td>113</td>\n",
       "      <td>0</td>\n",
       "      <td>4</td>\n",
       "      <td>4</td>\n",
       "      <td>258</td>\n",
       "      <td>74.087490</td>\n",
       "      <td>252</td>\n",
       "      <td>254</td>\n",
       "      <td>14158.942380</td>\n",
       "      <td>...</td>\n",
       "      <td>1</td>\n",
       "      <td>1</td>\n",
       "      <td>1</td>\n",
       "      <td>1</td>\n",
       "      <td>1</td>\n",
       "      <td>1</td>\n",
       "      <td>6</td>\n",
       "      <td>-14339.811230</td>\n",
       "      <td>-5427.117131</td>\n",
       "      <td>363.455824</td>\n",
       "    </tr>\n",
       "    <tr>\n",
       "      <th>1</th>\n",
       "      <td>6499.02</td>\n",
       "      <td>113</td>\n",
       "      <td>0</td>\n",
       "      <td>4</td>\n",
       "      <td>38</td>\n",
       "      <td>734</td>\n",
       "      <td>78.473372</td>\n",
       "      <td>62</td>\n",
       "      <td>252</td>\n",
       "      <td>8395.112305</td>\n",
       "      <td>...</td>\n",
       "      <td>1</td>\n",
       "      <td>1</td>\n",
       "      <td>1</td>\n",
       "      <td>2</td>\n",
       "      <td>1</td>\n",
       "      <td>6</td>\n",
       "      <td>6</td>\n",
       "      <td>26947.677836</td>\n",
       "      <td>-5283.049895</td>\n",
       "      <td>-6435.428556</td>\n",
       "    </tr>\n",
       "    <tr>\n",
       "      <th>2</th>\n",
       "      <td>16231.29</td>\n",
       "      <td>113</td>\n",
       "      <td>0</td>\n",
       "      <td>4</td>\n",
       "      <td>16</td>\n",
       "      <td>364</td>\n",
       "      <td>14.170161</td>\n",
       "      <td>62</td>\n",
       "      <td>252</td>\n",
       "      <td>1572.271851</td>\n",
       "      <td>...</td>\n",
       "      <td>2</td>\n",
       "      <td>1</td>\n",
       "      <td>1</td>\n",
       "      <td>3</td>\n",
       "      <td>2</td>\n",
       "      <td>6</td>\n",
       "      <td>6</td>\n",
       "      <td>-1508.847447</td>\n",
       "      <td>12187.598091</td>\n",
       "      <td>-1747.491867</td>\n",
       "    </tr>\n",
       "    <tr>\n",
       "      <th>3</th>\n",
       "      <td>16816.42</td>\n",
       "      <td>113</td>\n",
       "      <td>3</td>\n",
       "      <td>4</td>\n",
       "      <td>12</td>\n",
       "      <td>628</td>\n",
       "      <td>13.677108</td>\n",
       "      <td>62</td>\n",
       "      <td>252</td>\n",
       "      <td>2740.178955</td>\n",
       "      <td>...</td>\n",
       "      <td>2</td>\n",
       "      <td>1</td>\n",
       "      <td>1</td>\n",
       "      <td>3</td>\n",
       "      <td>2</td>\n",
       "      <td>1</td>\n",
       "      <td>6</td>\n",
       "      <td>-13744.620251</td>\n",
       "      <td>-4994.575427</td>\n",
       "      <td>262.769642</td>\n",
       "    </tr>\n",
       "    <tr>\n",
       "      <th>4</th>\n",
       "      <td>4494.54</td>\n",
       "      <td>113</td>\n",
       "      <td>0</td>\n",
       "      <td>4</td>\n",
       "      <td>6</td>\n",
       "      <td>534</td>\n",
       "      <td>33.373826</td>\n",
       "      <td>254</td>\n",
       "      <td>252</td>\n",
       "      <td>8561.499023</td>\n",
       "      <td>...</td>\n",
       "      <td>2</td>\n",
       "      <td>2</td>\n",
       "      <td>1</td>\n",
       "      <td>40</td>\n",
       "      <td>2</td>\n",
       "      <td>39</td>\n",
       "      <td>6</td>\n",
       "      <td>-14248.116190</td>\n",
       "      <td>-3038.320683</td>\n",
       "      <td>349.430503</td>\n",
       "    </tr>\n",
       "  </tbody>\n",
       "</table>\n",
       "<p>5 rows × 32 columns</p>\n",
       "</div>"
      ],
      "text/plain": [
       "        dur  proto  service  state  dpkts  sbytes       rate  sttl  dttl  \\\n",
       "0   1214.78    113        0      4      4     258  74.087490   252   254   \n",
       "1   6499.02    113        0      4     38     734  78.473372    62   252   \n",
       "2  16231.29    113        0      4     16     364  14.170161    62   252   \n",
       "3  16816.42    113        3      4     12     628  13.677108    62   252   \n",
       "4   4494.54    113        0      4      6     534  33.373826   254   252   \n",
       "\n",
       "          sload  ...  ct_dst_ltm  ct_src_dport_ltm  ct_dst_sport_ltm  \\\n",
       "0  14158.942380  ...           1                 1                 1   \n",
       "1   8395.112305  ...           1                 1                 1   \n",
       "2   1572.271851  ...           2                 1                 1   \n",
       "3   2740.178955  ...           2                 1                 1   \n",
       "4   8561.499023  ...           2                 2                 1   \n",
       "\n",
       "   ct_dst_src_ltm  ct_src_ltm  ct_srv_dst  attack_cat             0  \\\n",
       "0               1           1           1           6 -14339.811230   \n",
       "1               2           1           6           6  26947.677836   \n",
       "2               3           2           6           6  -1508.847447   \n",
       "3               3           2           1           6 -13744.620251   \n",
       "4              40           2          39           6 -14248.116190   \n",
       "\n",
       "              1            2  \n",
       "0  -5427.117131   363.455824  \n",
       "1  -5283.049895 -6435.428556  \n",
       "2  12187.598091 -1747.491867  \n",
       "3  -4994.575427   262.769642  \n",
       "4  -3038.320683   349.430503  \n",
       "\n",
       "[5 rows x 32 columns]"
      ]
     },
     "execution_count": 24,
     "metadata": {},
     "output_type": "execute_result"
    }
   ],
   "source": [
    "print('combined_data.dur is scaled up by 10,000')\n",
    "combined_data['dur'] = 10000*combined_data['dur']\n",
    "combined_data.head()"
   ]
  },
  {
   "cell_type": "code",
   "execution_count": 25,
   "metadata": {
    "colab": {
     "base_uri": "https://localhost:8080/",
     "height": 54
    },
    "id": "FVdK_9Wh8t82",
    "outputId": "f269443f-6e3a-4507-ac35-d46f28b253d0"
   },
   "outputs": [
    {
     "name": "stdout",
     "output_type": "stream",
     "text": [
      "before: (257673, 32)\n"
     ]
    },
    {
     "data": {
      "text/plain": [
       "(257673, 31)"
      ]
     },
     "execution_count": 25,
     "metadata": {},
     "output_type": "execute_result"
    },
    {
     "data": {
      "text/plain": [
       "(257673,)"
      ]
     },
     "execution_count": 25,
     "metadata": {},
     "output_type": "execute_result"
    }
   ],
   "source": [
    "print('before:', combined_data.shape)\n",
    "data_x = combined_data.drop(['attack_cat'], axis=1) # droped label\n",
    "data_y = combined_data['attack_cat']\n",
    "data_x.shape\n",
    "data_y.shape\n",
    "\n",
    "data_x = data_x.apply(lambda x: (x - x.min()) / (x.max() - x.min()))\n",
    "\n",
    "# data_x = MinMaxScaler().fit_transform(data_x) # better for VotingClassifier\n",
    "# data_x = StandardScaler().fit_transform(data_x)\n"
   ]
  },
  {
   "cell_type": "code",
   "execution_count": 26,
   "metadata": {
    "id": "Aig47qjH8t85"
   },
   "outputs": [],
   "source": [
    "X_train, X_test, y_train, y_test = train_test_split(data_x, data_y, test_size=.50, random_state=42) # TODO test_size depends on how much you are willing to wait... :)"
   ]
  },
  {
   "cell_type": "code",
   "execution_count": 28,
   "metadata": {
    "colab": {
     "base_uri": "https://localhost:8080/",
     "height": 90
    },
    "id": "v3sNcsgr8t89",
    "outputId": "6bf3d1c5-715d-4092-9d15-f888adfef2f5"
   },
   "outputs": [
    {
     "name": "stdout",
     "output_type": "stream",
     "text": [
      "Acc: 0.8090533 [DecisionTreeClassifier]\n",
      "Acc: 0.8344109 [RandomForestClassifier]\n",
      "Acc: 0.8292882 [ExtraTreesClassifier]\n",
      "Acc: 0.8335571 [Ensemble]\n"
     ]
    }
   ],
   "source": [
    "DTC = DecisionTreeClassifier()\n",
    "RFC = RandomForestClassifier(n_estimators=50, random_state=1)\n",
    "ETC = ExtraTreesClassifier(n_estimators=75, criterion='gini', max_features='sqrt', bootstrap=False)\n",
    "\n",
    "# Convertim denumirile coloanelor la string-uri\n",
    "X_train.columns = X_train.columns.astype(str)\n",
    "X_test.columns = X_test.columns.astype(str)\n",
    "\n",
    "# Apoi continuăm cu antrenarea modelelor\n",
    "eclf = VotingClassifier(estimators=[('lr', DTC), ('rf', RFC), ('et', ETC)], voting='hard')\n",
    "for clf, label in zip([DTC, RFC, ETC, eclf], ['DecisionTreeClassifier', 'RandomForestClassifier', 'ExtraTreesClassifier', 'Ensemble']):\n",
    "    _ = clf.fit(X_train, y_train)\n",
    "    pred = clf.score(X_test, y_test)\n",
    "    print(\"Acc: %0.7f [%s]\" % (pred, label))\n",
    "\n"
   ]
  },
  {
   "cell_type": "code",
   "execution_count": 29,
   "metadata": {
    "colab": {
     "base_uri": "https://localhost:8080/",
     "height": 54
    },
    "id": "k1_fBgr28t9G",
    "outputId": "1f5d0c78-7ea8-454e-f678-c348db7d6794"
   },
   "outputs": [
    {
     "data": {
      "text/html": [
       "<style>#sk-container-id-1 {\n",
       "  /* Definition of color scheme common for light and dark mode */\n",
       "  --sklearn-color-text: #000;\n",
       "  --sklearn-color-text-muted: #666;\n",
       "  --sklearn-color-line: gray;\n",
       "  /* Definition of color scheme for unfitted estimators */\n",
       "  --sklearn-color-unfitted-level-0: #fff5e6;\n",
       "  --sklearn-color-unfitted-level-1: #f6e4d2;\n",
       "  --sklearn-color-unfitted-level-2: #ffe0b3;\n",
       "  --sklearn-color-unfitted-level-3: chocolate;\n",
       "  /* Definition of color scheme for fitted estimators */\n",
       "  --sklearn-color-fitted-level-0: #f0f8ff;\n",
       "  --sklearn-color-fitted-level-1: #d4ebff;\n",
       "  --sklearn-color-fitted-level-2: #b3dbfd;\n",
       "  --sklearn-color-fitted-level-3: cornflowerblue;\n",
       "\n",
       "  /* Specific color for light theme */\n",
       "  --sklearn-color-text-on-default-background: var(--sg-text-color, var(--theme-code-foreground, var(--jp-content-font-color1, black)));\n",
       "  --sklearn-color-background: var(--sg-background-color, var(--theme-background, var(--jp-layout-color0, white)));\n",
       "  --sklearn-color-border-box: var(--sg-text-color, var(--theme-code-foreground, var(--jp-content-font-color1, black)));\n",
       "  --sklearn-color-icon: #696969;\n",
       "\n",
       "  @media (prefers-color-scheme: dark) {\n",
       "    /* Redefinition of color scheme for dark theme */\n",
       "    --sklearn-color-text-on-default-background: var(--sg-text-color, var(--theme-code-foreground, var(--jp-content-font-color1, white)));\n",
       "    --sklearn-color-background: var(--sg-background-color, var(--theme-background, var(--jp-layout-color0, #111)));\n",
       "    --sklearn-color-border-box: var(--sg-text-color, var(--theme-code-foreground, var(--jp-content-font-color1, white)));\n",
       "    --sklearn-color-icon: #878787;\n",
       "  }\n",
       "}\n",
       "\n",
       "#sk-container-id-1 {\n",
       "  color: var(--sklearn-color-text);\n",
       "}\n",
       "\n",
       "#sk-container-id-1 pre {\n",
       "  padding: 0;\n",
       "}\n",
       "\n",
       "#sk-container-id-1 input.sk-hidden--visually {\n",
       "  border: 0;\n",
       "  clip: rect(1px 1px 1px 1px);\n",
       "  clip: rect(1px, 1px, 1px, 1px);\n",
       "  height: 1px;\n",
       "  margin: -1px;\n",
       "  overflow: hidden;\n",
       "  padding: 0;\n",
       "  position: absolute;\n",
       "  width: 1px;\n",
       "}\n",
       "\n",
       "#sk-container-id-1 div.sk-dashed-wrapped {\n",
       "  border: 1px dashed var(--sklearn-color-line);\n",
       "  margin: 0 0.4em 0.5em 0.4em;\n",
       "  box-sizing: border-box;\n",
       "  padding-bottom: 0.4em;\n",
       "  background-color: var(--sklearn-color-background);\n",
       "}\n",
       "\n",
       "#sk-container-id-1 div.sk-container {\n",
       "  /* jupyter's `normalize.less` sets `[hidden] { display: none; }`\n",
       "     but bootstrap.min.css set `[hidden] { display: none !important; }`\n",
       "     so we also need the `!important` here to be able to override the\n",
       "     default hidden behavior on the sphinx rendered scikit-learn.org.\n",
       "     See: https://github.com/scikit-learn/scikit-learn/issues/21755 */\n",
       "  display: inline-block !important;\n",
       "  position: relative;\n",
       "}\n",
       "\n",
       "#sk-container-id-1 div.sk-text-repr-fallback {\n",
       "  display: none;\n",
       "}\n",
       "\n",
       "div.sk-parallel-item,\n",
       "div.sk-serial,\n",
       "div.sk-item {\n",
       "  /* draw centered vertical line to link estimators */\n",
       "  background-image: linear-gradient(var(--sklearn-color-text-on-default-background), var(--sklearn-color-text-on-default-background));\n",
       "  background-size: 2px 100%;\n",
       "  background-repeat: no-repeat;\n",
       "  background-position: center center;\n",
       "}\n",
       "\n",
       "/* Parallel-specific style estimator block */\n",
       "\n",
       "#sk-container-id-1 div.sk-parallel-item::after {\n",
       "  content: \"\";\n",
       "  width: 100%;\n",
       "  border-bottom: 2px solid var(--sklearn-color-text-on-default-background);\n",
       "  flex-grow: 1;\n",
       "}\n",
       "\n",
       "#sk-container-id-1 div.sk-parallel {\n",
       "  display: flex;\n",
       "  align-items: stretch;\n",
       "  justify-content: center;\n",
       "  background-color: var(--sklearn-color-background);\n",
       "  position: relative;\n",
       "}\n",
       "\n",
       "#sk-container-id-1 div.sk-parallel-item {\n",
       "  display: flex;\n",
       "  flex-direction: column;\n",
       "}\n",
       "\n",
       "#sk-container-id-1 div.sk-parallel-item:first-child::after {\n",
       "  align-self: flex-end;\n",
       "  width: 50%;\n",
       "}\n",
       "\n",
       "#sk-container-id-1 div.sk-parallel-item:last-child::after {\n",
       "  align-self: flex-start;\n",
       "  width: 50%;\n",
       "}\n",
       "\n",
       "#sk-container-id-1 div.sk-parallel-item:only-child::after {\n",
       "  width: 0;\n",
       "}\n",
       "\n",
       "/* Serial-specific style estimator block */\n",
       "\n",
       "#sk-container-id-1 div.sk-serial {\n",
       "  display: flex;\n",
       "  flex-direction: column;\n",
       "  align-items: center;\n",
       "  background-color: var(--sklearn-color-background);\n",
       "  padding-right: 1em;\n",
       "  padding-left: 1em;\n",
       "}\n",
       "\n",
       "\n",
       "/* Toggleable style: style used for estimator/Pipeline/ColumnTransformer box that is\n",
       "clickable and can be expanded/collapsed.\n",
       "- Pipeline and ColumnTransformer use this feature and define the default style\n",
       "- Estimators will overwrite some part of the style using the `sk-estimator` class\n",
       "*/\n",
       "\n",
       "/* Pipeline and ColumnTransformer style (default) */\n",
       "\n",
       "#sk-container-id-1 div.sk-toggleable {\n",
       "  /* Default theme specific background. It is overwritten whether we have a\n",
       "  specific estimator or a Pipeline/ColumnTransformer */\n",
       "  background-color: var(--sklearn-color-background);\n",
       "}\n",
       "\n",
       "/* Toggleable label */\n",
       "#sk-container-id-1 label.sk-toggleable__label {\n",
       "  cursor: pointer;\n",
       "  display: flex;\n",
       "  width: 100%;\n",
       "  margin-bottom: 0;\n",
       "  padding: 0.5em;\n",
       "  box-sizing: border-box;\n",
       "  text-align: center;\n",
       "  align-items: start;\n",
       "  justify-content: space-between;\n",
       "  gap: 0.5em;\n",
       "}\n",
       "\n",
       "#sk-container-id-1 label.sk-toggleable__label .caption {\n",
       "  font-size: 0.6rem;\n",
       "  font-weight: lighter;\n",
       "  color: var(--sklearn-color-text-muted);\n",
       "}\n",
       "\n",
       "#sk-container-id-1 label.sk-toggleable__label-arrow:before {\n",
       "  /* Arrow on the left of the label */\n",
       "  content: \"▸\";\n",
       "  float: left;\n",
       "  margin-right: 0.25em;\n",
       "  color: var(--sklearn-color-icon);\n",
       "}\n",
       "\n",
       "#sk-container-id-1 label.sk-toggleable__label-arrow:hover:before {\n",
       "  color: var(--sklearn-color-text);\n",
       "}\n",
       "\n",
       "/* Toggleable content - dropdown */\n",
       "\n",
       "#sk-container-id-1 div.sk-toggleable__content {\n",
       "  max-height: 0;\n",
       "  max-width: 0;\n",
       "  overflow: hidden;\n",
       "  text-align: left;\n",
       "  /* unfitted */\n",
       "  background-color: var(--sklearn-color-unfitted-level-0);\n",
       "}\n",
       "\n",
       "#sk-container-id-1 div.sk-toggleable__content.fitted {\n",
       "  /* fitted */\n",
       "  background-color: var(--sklearn-color-fitted-level-0);\n",
       "}\n",
       "\n",
       "#sk-container-id-1 div.sk-toggleable__content pre {\n",
       "  margin: 0.2em;\n",
       "  border-radius: 0.25em;\n",
       "  color: var(--sklearn-color-text);\n",
       "  /* unfitted */\n",
       "  background-color: var(--sklearn-color-unfitted-level-0);\n",
       "}\n",
       "\n",
       "#sk-container-id-1 div.sk-toggleable__content.fitted pre {\n",
       "  /* unfitted */\n",
       "  background-color: var(--sklearn-color-fitted-level-0);\n",
       "}\n",
       "\n",
       "#sk-container-id-1 input.sk-toggleable__control:checked~div.sk-toggleable__content {\n",
       "  /* Expand drop-down */\n",
       "  max-height: 200px;\n",
       "  max-width: 100%;\n",
       "  overflow: auto;\n",
       "}\n",
       "\n",
       "#sk-container-id-1 input.sk-toggleable__control:checked~label.sk-toggleable__label-arrow:before {\n",
       "  content: \"▾\";\n",
       "}\n",
       "\n",
       "/* Pipeline/ColumnTransformer-specific style */\n",
       "\n",
       "#sk-container-id-1 div.sk-label input.sk-toggleable__control:checked~label.sk-toggleable__label {\n",
       "  color: var(--sklearn-color-text);\n",
       "  background-color: var(--sklearn-color-unfitted-level-2);\n",
       "}\n",
       "\n",
       "#sk-container-id-1 div.sk-label.fitted input.sk-toggleable__control:checked~label.sk-toggleable__label {\n",
       "  background-color: var(--sklearn-color-fitted-level-2);\n",
       "}\n",
       "\n",
       "/* Estimator-specific style */\n",
       "\n",
       "/* Colorize estimator box */\n",
       "#sk-container-id-1 div.sk-estimator input.sk-toggleable__control:checked~label.sk-toggleable__label {\n",
       "  /* unfitted */\n",
       "  background-color: var(--sklearn-color-unfitted-level-2);\n",
       "}\n",
       "\n",
       "#sk-container-id-1 div.sk-estimator.fitted input.sk-toggleable__control:checked~label.sk-toggleable__label {\n",
       "  /* fitted */\n",
       "  background-color: var(--sklearn-color-fitted-level-2);\n",
       "}\n",
       "\n",
       "#sk-container-id-1 div.sk-label label.sk-toggleable__label,\n",
       "#sk-container-id-1 div.sk-label label {\n",
       "  /* The background is the default theme color */\n",
       "  color: var(--sklearn-color-text-on-default-background);\n",
       "}\n",
       "\n",
       "/* On hover, darken the color of the background */\n",
       "#sk-container-id-1 div.sk-label:hover label.sk-toggleable__label {\n",
       "  color: var(--sklearn-color-text);\n",
       "  background-color: var(--sklearn-color-unfitted-level-2);\n",
       "}\n",
       "\n",
       "/* Label box, darken color on hover, fitted */\n",
       "#sk-container-id-1 div.sk-label.fitted:hover label.sk-toggleable__label.fitted {\n",
       "  color: var(--sklearn-color-text);\n",
       "  background-color: var(--sklearn-color-fitted-level-2);\n",
       "}\n",
       "\n",
       "/* Estimator label */\n",
       "\n",
       "#sk-container-id-1 div.sk-label label {\n",
       "  font-family: monospace;\n",
       "  font-weight: bold;\n",
       "  display: inline-block;\n",
       "  line-height: 1.2em;\n",
       "}\n",
       "\n",
       "#sk-container-id-1 div.sk-label-container {\n",
       "  text-align: center;\n",
       "}\n",
       "\n",
       "/* Estimator-specific */\n",
       "#sk-container-id-1 div.sk-estimator {\n",
       "  font-family: monospace;\n",
       "  border: 1px dotted var(--sklearn-color-border-box);\n",
       "  border-radius: 0.25em;\n",
       "  box-sizing: border-box;\n",
       "  margin-bottom: 0.5em;\n",
       "  /* unfitted */\n",
       "  background-color: var(--sklearn-color-unfitted-level-0);\n",
       "}\n",
       "\n",
       "#sk-container-id-1 div.sk-estimator.fitted {\n",
       "  /* fitted */\n",
       "  background-color: var(--sklearn-color-fitted-level-0);\n",
       "}\n",
       "\n",
       "/* on hover */\n",
       "#sk-container-id-1 div.sk-estimator:hover {\n",
       "  /* unfitted */\n",
       "  background-color: var(--sklearn-color-unfitted-level-2);\n",
       "}\n",
       "\n",
       "#sk-container-id-1 div.sk-estimator.fitted:hover {\n",
       "  /* fitted */\n",
       "  background-color: var(--sklearn-color-fitted-level-2);\n",
       "}\n",
       "\n",
       "/* Specification for estimator info (e.g. \"i\" and \"?\") */\n",
       "\n",
       "/* Common style for \"i\" and \"?\" */\n",
       "\n",
       ".sk-estimator-doc-link,\n",
       "a:link.sk-estimator-doc-link,\n",
       "a:visited.sk-estimator-doc-link {\n",
       "  float: right;\n",
       "  font-size: smaller;\n",
       "  line-height: 1em;\n",
       "  font-family: monospace;\n",
       "  background-color: var(--sklearn-color-background);\n",
       "  border-radius: 1em;\n",
       "  height: 1em;\n",
       "  width: 1em;\n",
       "  text-decoration: none !important;\n",
       "  margin-left: 0.5em;\n",
       "  text-align: center;\n",
       "  /* unfitted */\n",
       "  border: var(--sklearn-color-unfitted-level-1) 1pt solid;\n",
       "  color: var(--sklearn-color-unfitted-level-1);\n",
       "}\n",
       "\n",
       ".sk-estimator-doc-link.fitted,\n",
       "a:link.sk-estimator-doc-link.fitted,\n",
       "a:visited.sk-estimator-doc-link.fitted {\n",
       "  /* fitted */\n",
       "  border: var(--sklearn-color-fitted-level-1) 1pt solid;\n",
       "  color: var(--sklearn-color-fitted-level-1);\n",
       "}\n",
       "\n",
       "/* On hover */\n",
       "div.sk-estimator:hover .sk-estimator-doc-link:hover,\n",
       ".sk-estimator-doc-link:hover,\n",
       "div.sk-label-container:hover .sk-estimator-doc-link:hover,\n",
       ".sk-estimator-doc-link:hover {\n",
       "  /* unfitted */\n",
       "  background-color: var(--sklearn-color-unfitted-level-3);\n",
       "  color: var(--sklearn-color-background);\n",
       "  text-decoration: none;\n",
       "}\n",
       "\n",
       "div.sk-estimator.fitted:hover .sk-estimator-doc-link.fitted:hover,\n",
       ".sk-estimator-doc-link.fitted:hover,\n",
       "div.sk-label-container:hover .sk-estimator-doc-link.fitted:hover,\n",
       ".sk-estimator-doc-link.fitted:hover {\n",
       "  /* fitted */\n",
       "  background-color: var(--sklearn-color-fitted-level-3);\n",
       "  color: var(--sklearn-color-background);\n",
       "  text-decoration: none;\n",
       "}\n",
       "\n",
       "/* Span, style for the box shown on hovering the info icon */\n",
       ".sk-estimator-doc-link span {\n",
       "  display: none;\n",
       "  z-index: 9999;\n",
       "  position: relative;\n",
       "  font-weight: normal;\n",
       "  right: .2ex;\n",
       "  padding: .5ex;\n",
       "  margin: .5ex;\n",
       "  width: min-content;\n",
       "  min-width: 20ex;\n",
       "  max-width: 50ex;\n",
       "  color: var(--sklearn-color-text);\n",
       "  box-shadow: 2pt 2pt 4pt #999;\n",
       "  /* unfitted */\n",
       "  background: var(--sklearn-color-unfitted-level-0);\n",
       "  border: .5pt solid var(--sklearn-color-unfitted-level-3);\n",
       "}\n",
       "\n",
       ".sk-estimator-doc-link.fitted span {\n",
       "  /* fitted */\n",
       "  background: var(--sklearn-color-fitted-level-0);\n",
       "  border: var(--sklearn-color-fitted-level-3);\n",
       "}\n",
       "\n",
       ".sk-estimator-doc-link:hover span {\n",
       "  display: block;\n",
       "}\n",
       "\n",
       "/* \"?\"-specific style due to the `<a>` HTML tag */\n",
       "\n",
       "#sk-container-id-1 a.estimator_doc_link {\n",
       "  float: right;\n",
       "  font-size: 1rem;\n",
       "  line-height: 1em;\n",
       "  font-family: monospace;\n",
       "  background-color: var(--sklearn-color-background);\n",
       "  border-radius: 1rem;\n",
       "  height: 1rem;\n",
       "  width: 1rem;\n",
       "  text-decoration: none;\n",
       "  /* unfitted */\n",
       "  color: var(--sklearn-color-unfitted-level-1);\n",
       "  border: var(--sklearn-color-unfitted-level-1) 1pt solid;\n",
       "}\n",
       "\n",
       "#sk-container-id-1 a.estimator_doc_link.fitted {\n",
       "  /* fitted */\n",
       "  border: var(--sklearn-color-fitted-level-1) 1pt solid;\n",
       "  color: var(--sklearn-color-fitted-level-1);\n",
       "}\n",
       "\n",
       "/* On hover */\n",
       "#sk-container-id-1 a.estimator_doc_link:hover {\n",
       "  /* unfitted */\n",
       "  background-color: var(--sklearn-color-unfitted-level-3);\n",
       "  color: var(--sklearn-color-background);\n",
       "  text-decoration: none;\n",
       "}\n",
       "\n",
       "#sk-container-id-1 a.estimator_doc_link.fitted:hover {\n",
       "  /* fitted */\n",
       "  background-color: var(--sklearn-color-fitted-level-3);\n",
       "}\n",
       "</style><div id=\"sk-container-id-1\" class=\"sk-top-container\"><div class=\"sk-text-repr-fallback\"><pre>RFE(estimator=DecisionTreeClassifier(), n_features_to_select=10)</pre><b>In a Jupyter environment, please rerun this cell to show the HTML representation or trust the notebook. <br />On GitHub, the HTML representation is unable to render, please try loading this page with nbviewer.org.</b></div><div class=\"sk-container\" hidden><div class=\"sk-item sk-dashed-wrapped\"><div class=\"sk-label-container\"><div class=\"sk-label fitted sk-toggleable\"><input class=\"sk-toggleable__control sk-hidden--visually\" id=\"sk-estimator-id-1\" type=\"checkbox\" ><label for=\"sk-estimator-id-1\" class=\"sk-toggleable__label fitted sk-toggleable__label-arrow\"><div><div>RFE</div></div><div><a class=\"sk-estimator-doc-link fitted\" rel=\"noreferrer\" target=\"_blank\" href=\"https://scikit-learn.org/1.6/modules/generated/sklearn.feature_selection.RFE.html\">?<span>Documentation for RFE</span></a><span class=\"sk-estimator-doc-link fitted\">i<span>Fitted</span></span></div></label><div class=\"sk-toggleable__content fitted\"><pre>RFE(estimator=DecisionTreeClassifier(), n_features_to_select=10)</pre></div> </div></div><div class=\"sk-parallel\"><div class=\"sk-parallel-item\"><div class=\"sk-item\"><div class=\"sk-label-container\"><div class=\"sk-label fitted sk-toggleable\"><input class=\"sk-toggleable__control sk-hidden--visually\" id=\"sk-estimator-id-2\" type=\"checkbox\" ><label for=\"sk-estimator-id-2\" class=\"sk-toggleable__label fitted sk-toggleable__label-arrow\"><div><div>estimator: DecisionTreeClassifier</div></div></label><div class=\"sk-toggleable__content fitted\"><pre>DecisionTreeClassifier()</pre></div> </div></div><div class=\"sk-serial\"><div class=\"sk-item\"><div class=\"sk-estimator fitted sk-toggleable\"><input class=\"sk-toggleable__control sk-hidden--visually\" id=\"sk-estimator-id-3\" type=\"checkbox\" ><label for=\"sk-estimator-id-3\" class=\"sk-toggleable__label fitted sk-toggleable__label-arrow\"><div><div>DecisionTreeClassifier</div></div><div><a class=\"sk-estimator-doc-link fitted\" rel=\"noreferrer\" target=\"_blank\" href=\"https://scikit-learn.org/1.6/modules/generated/sklearn.tree.DecisionTreeClassifier.html\">?<span>Documentation for DecisionTreeClassifier</span></a></div></label><div class=\"sk-toggleable__content fitted\"><pre>DecisionTreeClassifier()</pre></div> </div></div></div></div></div></div></div></div></div>"
      ],
      "text/plain": [
       "RFE(estimator=DecisionTreeClassifier(), n_features_to_select=10)"
      ]
     },
     "execution_count": 29,
     "metadata": {},
     "output_type": "execute_result"
    },
    {
     "name": "stdout",
     "output_type": "stream",
     "text": [
      "Acc: 0.8032165 [DecisionTreeClassifier]\n",
      "Acc: 0.8254616 [RandomForestClassifier]\n",
      "Acc: 0.8247864 [ExtraTreesClassifier]\n",
      "Acc: 0.8253452 [Ensemble]\n"
     ]
    }
   ],
   "source": [
    "from sklearn.feature_selection import RFE\n",
    "from sklearn.tree import DecisionTreeClassifier\n",
    "\n",
    "# Crearea și antrenarea RFE\n",
    "rfe = RFE(estimator=DecisionTreeClassifier(), n_features_to_select=10)\n",
    "rfe.fit(X_train, y_train)\n",
    "\n",
    "# Obținerea index-urilor caracteristicilor selectate\n",
    "desiredIndices = np.where(rfe.support_ == True)[0]\n",
    "\n",
    "# Convertirea datelor în DataFrame pentru manipulare mai ușoară\n",
    "X_train, X_test = pd.DataFrame(X_train), pd.DataFrame(X_test)\n",
    "\n",
    "# Extracția caracteristicilor selectate\n",
    "whitelist = X_train.columns.values[desiredIndices]\n",
    "X_train_RFE, X_test_RFE = X_train[whitelist], X_test[whitelist]\n",
    "\n",
    "# Clasificatori pentru VotingClassifier\n",
    "DTC = DecisionTreeClassifier() \n",
    "RFC = RandomForestClassifier(n_estimators=50, random_state=1)\n",
    "ETC = ExtraTreesClassifier(n_estimators=75, criterion='gini', max_features='sqrt', bootstrap=False)  # corectat max_features\n",
    "\n",
    "# Antrenarea clasificatorilor\n",
    "eclf = VotingClassifier(estimators=[('lr', DTC), ('rf', RFC), ('et', ETC)], voting='hard') \n",
    "for clf, label in zip([DTC, RFC, ETC, eclf], ['DecisionTreeClassifier', 'RandomForestClassifier', 'ExtraTreesClassifier', 'Ensemble']): \n",
    "    _ = clf.fit(X_train_RFE, y_train)  # Utilizare X_train_RFE cu caracteristicile selectate\n",
    "    pred = clf.score(X_test_RFE, y_test)  # Evaluare pe X_test_RFE\n",
    "    print(\"Acc: %0.7f [%s]\" % (pred, label))\n"
   ]
  },
  {
   "cell_type": "code",
   "execution_count": 30,
   "metadata": {
    "colab": {
     "base_uri": "https://localhost:8080/",
     "height": 35
    },
    "id": "vFmoE9oW8t9M",
    "outputId": "c1885f14-1325-4efe-d83a-1cb4ff14feaf"
   },
   "outputs": [
    {
     "data": {
      "text/plain": [
       "(128836, 10)"
      ]
     },
     "execution_count": 30,
     "metadata": {},
     "output_type": "execute_result"
    },
    {
     "data": {
      "text/plain": [
       "{0, 1, 2, 3, 4, 5, 6, 7, 8, 9}"
      ]
     },
     "execution_count": 30,
     "metadata": {},
     "output_type": "execute_result"
    }
   ],
   "source": [
    "X_train_RFE.shape\n",
    "set(y_train)\n",
    "\n",
    "# X_train_RFE.dtype = np.int\n",
    "\n",
    "\n",
    "# torch.as_tensor(X_train_RFE_vals[i].astype('double'),dtype=torch.double)"
   ]
  },
  {
   "cell_type": "markdown",
   "metadata": {
    "id": "WWp197rN8t9Q"
   },
   "source": [
    "# Neural network"
   ]
  },
  {
   "cell_type": "code",
   "execution_count": 31,
   "metadata": {
    "id": "iqO2js-o9i-9"
   },
   "outputs": [],
   "source": [
    "device = torch.device('cuda' if torch.cuda.is_available() else 'cpu')\n",
    "device = 'cpu'\n",
    "\n",
    "input_size = 10\n",
    "hidden_size = 64 \n",
    "hidden_size_2 = 64\n",
    "num_classes = 10\n",
    "\n",
    "num_epochs = 40\n",
    "batch_size = 32\n",
    "learning_rate = 0.001\n",
    "\n",
    "# Fully connected neural network with one hidden layer\n",
    "class NeuralNet(nn.Module):\n",
    "    def __init__(self, input_size, hidden_size, num_classes):\n",
    "        super(NeuralNet, self).__init__()\n",
    "        self.input_size = input_size # ?? \n",
    "        self.l1 = nn.Linear(input_size, hidden_size) \n",
    "        self.l2 = nn.Linear(hidden_size, hidden_size_2)  \n",
    "        self.l3 = nn.Linear(hidden_size_2, num_classes)\n",
    "        self.relu = nn.ReLU()\n",
    "        self.elu = nn.ELU()\n",
    "    \n",
    "    def forward(self, x):\n",
    "        out = self.l1(x)\n",
    "        out = self.relu(out)\n",
    "        out = self.l2(out)\n",
    "        out = self.relu(out)\n",
    "        out = self.l3(out)\n",
    "        # no activation and no softmax at the end\n",
    "        return out"
   ]
  },
  {
   "cell_type": "code",
   "execution_count": 32,
   "metadata": {
    "colab": {
     "base_uri": "https://localhost:8080/",
     "height": 90
    },
    "id": "qTCczWlu8t9R",
    "outputId": "ff9377c5-4d95-4c3d-9e51-c0800d31f76a"
   },
   "outputs": [
    {
     "name": "stdout",
     "output_type": "stream",
     "text": [
      "Epoch [10/40], Step [128833/128836], Loss: 0.0093\n",
      "Epoch [20/40], Step [128833/128836], Loss: 0.0041\n",
      "Epoch [30/40], Step [128833/128836], Loss: 0.0029\n",
      "Epoch [40/40], Step [128833/128836], Loss: 0.0021\n"
     ]
    }
   ],
   "source": [
    "model = NeuralNet(input_size, hidden_size, num_classes).to(device)\n",
    "\n",
    "# Loss and optimizer\n",
    "criterion = nn.CrossEntropyLoss() # This criterion combines nn.LogSoftmax() and nn.NLLLoss() in one single class.\n",
    "optimizer = torch.optim.Adam(model.parameters(), lr=learning_rate)  \n",
    "\n",
    "# Train the model\n",
    "n_total_steps = len(X_train)\n",
    "\n",
    "X_train_RFE_vals= X_train_RFE.values\n",
    "y_train_vals = y_train.values\n",
    "\n",
    "for epoch in range(num_epochs):\n",
    "    # for i in range(len(X_train_RFE_vals)//100 + 1): #, batch_size\n",
    "    for i in range(0, X_train_RFE_vals.shape[0], batch_size):\n",
    "\n",
    "\n",
    "        x = torch.as_tensor(X_train_RFE_vals[i:i+batch_size], dtype=torch.float).to(device)\n",
    "        y = torch.as_tensor(y_train_vals[i:i+batch_size], dtype=torch.long).to(device)\n",
    "\n",
    "        # x.type()\n",
    "        # y.type()\n",
    "        \n",
    "        outputs = model(x)\n",
    "        loss = criterion(outputs, y)\n",
    "        \n",
    "        # Backward and optimize\n",
    "        optimizer.zero_grad()\n",
    "        loss.backward()\n",
    "        optimizer.step()\n",
    "        \n",
    "    if (epoch+1) % 10 == 0:\n",
    "      print(f'Epoch [{epoch+1}/{num_epochs}], Step [{i+1}/{n_total_steps}], Loss: {loss.item():.4f}')"
   ]
  },
  {
   "cell_type": "code",
   "execution_count": 33,
   "metadata": {
    "colab": {
     "base_uri": "https://localhost:8080/",
     "height": 35
    },
    "id": "drjRsfmM8t9W",
    "outputId": "8146fe9a-09d8-4711-eb3e-d9847dacc5bb"
   },
   "outputs": [
    {
     "name": "stdout",
     "output_type": "stream",
     "text": [
      "Accuracy of the network: 79.11640975488598 %\n"
     ]
    }
   ],
   "source": [
    "# Test the model\n",
    "# In test phase, we don't need to compute gradients (for memory efficiency)\n",
    "X_test_RFE_vals= X_test_RFE.values\n",
    "y_test_vals = y_test.values\n",
    "with torch.no_grad():\n",
    "    n_correct = 0\n",
    "    n_samples = 0 \n",
    "    # for i in range(len(X_train_RFE_vals)//100 + 1):   \n",
    "    for i in range(0, X_test_RFE_vals.shape[0], batch_size):\n",
    "        x = torch.as_tensor(X_test_RFE_vals[i:i+batch_size], dtype=torch.float).to(device)\n",
    "        y = torch.as_tensor(y_test_vals[i:i+batch_size], dtype=torch.long).to(device)\n",
    "        \n",
    "        outputs = model(x)\n",
    "        if len(outputs.data) > 0:\n",
    "          # max returns (value ,index)\n",
    "          _, predicted = torch.max(outputs.data, dim=1)\n",
    "          n_samples += y.size(0)\n",
    "          n_correct += (predicted == y).sum().item()\n",
    "        else:\n",
    "          print(\"what???\")\n",
    "          print(x, outputs.data)\n",
    "    acc = 100.0 * n_correct / (n_samples+1)\n",
    "    print(f'Accuracy of the network: {acc} %')"
   ]
  },
  {
   "cell_type": "markdown",
   "metadata": {
    "id": "X-kjC3e78t_l"
   },
   "source": [
    "## autoEncoder"
   ]
  },
  {
   "cell_type": "code",
   "execution_count": 34,
   "metadata": {
    "id": "IFJF8-1cX34F"
   },
   "outputs": [],
   "source": [
    "import copy\n",
    "\n",
    "device = 'cpu' # torch.device('cuda' if torch.cuda.is_available() else 'cpu')"
   ]
  },
  {
   "cell_type": "code",
   "execution_count": 35,
   "metadata": {
    "id": "fIdITEMQ8t_p"
   },
   "outputs": [],
   "source": [
    "\n",
    "\n",
    "class Encoder(nn.Module):\n",
    "  def __init__(self, input_size, hidden_size, center_size):\n",
    "    super(Encoder, self).__init__()\n",
    "    self.l1 = nn.Linear(input_size, hidden_size) \n",
    "    self.l2 = nn.Linear(hidden_size, center_size)  \n",
    "    self.acti = nn.ELU()\n",
    "    \n",
    "  def forward(self, x):\n",
    "    out = self.l1(x)\n",
    "    out = self.acti(out)\n",
    "    out = self.l2(out)\n",
    "    return out\n",
    "\n",
    "class Decoder(nn.Module):   \n",
    "  def __init__(self, output_size, hidden_size, center_size):\n",
    "    super(Decoder, self).__init__()\n",
    "    self.l1 = nn.Linear(center_size, hidden_size) \n",
    "    self.l2 = nn.Linear(hidden_size, output_size)  \n",
    "    self.acti = nn.ELU()\n",
    "    \n",
    "  def forward(self, x):\n",
    "    out = self.l1(x)\n",
    "    out = self.acti(out)\n",
    "    out = self.l2(out)\n",
    "    return out"
   ]
  },
  {
   "cell_type": "code",
   "execution_count": 36,
   "metadata": {
    "id": "NRrCkJZs8t_s"
   },
   "outputs": [],
   "source": [
    "class RecurrentAutoencoder(nn.Module):\n",
    "  def __init__(self, input_size, output_size, hidden_size, center_size):\n",
    "    super(RecurrentAutoencoder, self).__init__()\n",
    "\n",
    "    self.encoder = Encoder(input_size, hidden_size, center_size).to(device)\n",
    "    self.decoder = Decoder(output_size, hidden_size, center_size).to(device)\n",
    "    print(self.encoder)\n",
    "    print(self.decoder)\n",
    "\n",
    "  def forward(self, x):\n",
    "    encoded = self.encoder(x)\n",
    "    dencoded = self.decoder(encoded)\n",
    "    return dencoded"
   ]
  },
  {
   "cell_type": "code",
   "execution_count": 37,
   "metadata": {
    "id": "fpdpA4hzHhf0"
   },
   "outputs": [],
   "source": [
    "def train_model(model, train_dataset, val_dataset, n_epochs, batch_size, lr):\n",
    "\n",
    "  optimizer = torch.optim.Adam(model.parameters(), lr)\n",
    "  scheduler = torch.optim.lr_scheduler.ReduceLROnPlateau(optimizer, 'min', patience=3)\n",
    "  criterion = nn.MSELoss(reduction='sum').to(device) #L1Loss(reduction='sum').to(device) # nn.SmoothL1Loss\n",
    "  history = dict(train=[], val=[])\n",
    "\n",
    "  best_model_wts = copy.deepcopy(model.state_dict())\n",
    "  best_loss = 10000.0\n",
    "\n",
    "  for epoch in range(1, n_epochs + 1):\n",
    "    \n",
    "    train_losses = []\n",
    "    model = model.train()\n",
    "    for i in range(0, train_dataset.shape[0], batch_size):\n",
    "      seq_true = train_dataset[i:i+batch_size]\n",
    "      seq_pred = model(seq_true)\n",
    "\n",
    "      loss = criterion(seq_pred, seq_true)\n",
    "      optimizer.zero_grad()\n",
    "      loss.backward()\n",
    "      optimizer.step()\n",
    "\n",
    "      train_losses.append(loss.item())\n",
    "\n",
    "\n",
    "    val_losses = []\n",
    "    model = model.eval()\n",
    "    with torch.no_grad():\n",
    "      # for seq_true in val_dataset:\n",
    "      for i in range(0, val_dataset.shape[0], batch_size):\n",
    "        seq_true = val_dataset[i:i+batch_size]\n",
    "        seq_pred = model(seq_true)\n",
    "\n",
    "        loss = criterion(seq_pred, seq_true)\n",
    "        val_losses.append(loss.item())\n",
    "\n",
    "    train_loss = np.mean(train_losses)\n",
    "    val_loss = np.mean(val_losses)\n",
    "\n",
    "    history['train'].append(train_loss)\n",
    "    history['val'].append(val_loss)\n",
    "\n",
    "    scheduler.step(val_loss) # ReduceLROnPlateau\n",
    "    if val_loss < best_loss:\n",
    "      best_loss = val_loss\n",
    "      best_model_wts = copy.deepcopy(model.state_dict())\n",
    "\n",
    "    print(f'Epoch {epoch}: train_loss: {train_loss:.8f}\\t val_loss: {val_loss:.8f}')\n",
    "\n",
    "  model.load_state_dict(best_model_wts)\n",
    "  return model.eval(), history"
   ]
  },
  {
   "cell_type": "markdown",
   "metadata": {
    "id": "K2E897q_zYzY"
   },
   "source": [
    "### Experiment for autoencoder\n",
    "> keep only the features that have a \"huge\" difference between normal and attack  \n",
    "\n",
    "VotingClassifier 83% -> 76% acc\n",
    "\n",
    "AutoEncoder 88.3%-> 82.1%"
   ]
  },
  {
   "cell_type": "code",
   "execution_count": 38,
   "metadata": {
    "colab": {
     "base_uri": "https://localhost:8080/",
     "height": 35
    },
    "id": "jUaGnV1nxouS",
    "outputId": "b78e03e2-453c-4ad5-9f56-bfe55ef1f3a7"
   },
   "outputs": [
    {
     "name": "stdout",
     "output_type": "stream",
     "text": [
      "(93000, 31)\n"
     ]
    }
   ],
   "source": [
    "EXPERIMENT = False \n",
    "\n",
    "if EXPERIMENT:\n",
    "  tmp_1 = combined_data[combined_data['attack_cat'] == 6].apply(lambda x: (x - x.min()) / (x.max() - x.min()))\n",
    "  tmp_2 = combined_data[combined_data['attack_cat'] != 6].apply(lambda x: (x - x.min()) / (x.max() - x.min()))\n",
    "\n",
    "  # tmp = tmp.apply(lambda x: round(x,8)) #  0.66666667\n",
    "  tmp_3 = np.abs(tmp_1.describe()[1:3] - tmp_2.describe()[1:3])\n",
    "  # tmp_3\n",
    "\n",
    "  tmp_4 = tmp_3.T[tmp_3.T['mean'] > 0.1]\n",
    "  tmp_4.T\n",
    "\n",
    "  test_keep = tmp_4.index\n",
    "\n",
    "  normal = combined_data[combined_data['attack_cat']==6].drop(['attack_cat'], axis=1)[test_keep]\n",
    "  attack = combined_data[combined_data['attack_cat']!=6].drop(['attack_cat'], axis=1)[test_keep]\n",
    "\n",
    "else:\n",
    "  normal = combined_data[combined_data['attack_cat']==6].drop(['attack_cat'], axis=1).apply(lambda x: (x - x.min()) / (x.max() - x.min()))\n",
    "  attack = combined_data[combined_data['attack_cat']!=6].drop(['attack_cat'], axis=1).apply(lambda x: (x - x.min()) / (x.max() - x.min()))\n",
    "\n",
    "print(normal.shape)"
   ]
  },
  {
   "cell_type": "code",
   "execution_count": 39,
   "metadata": {
    "colab": {
     "base_uri": "https://localhost:8080/",
     "height": 90
    },
    "id": "K2dbx04VW5f8",
    "outputId": "20152e19-99c7-4c07-c1f2-47f71cc61c20"
   },
   "outputs": [
    {
     "name": "stdout",
     "output_type": "stream",
     "text": [
      "attack_tensor.shape:  (164673, 31)\n",
      "normal.shape:  (93000, 31)\n",
      "x_train.shape:  torch.Size([83700, 31])\n",
      "x_test.shape:  torch.Size([9300, 31])\n"
     ]
    }
   ],
   "source": [
    "normal = normal.values\n",
    "attack = attack.values\n",
    "\n",
    "normal_train = normal[:int(len(normal)*0.9)]\n",
    "normal_test = normal[int(len(normal)*0.9):]\n",
    "\n",
    "x_train = torch.as_tensor(normal_train, dtype=torch.float).to(device)\n",
    "x_test = torch.as_tensor(normal_test, dtype=torch.float).to(device)\n",
    "\n",
    "normal_tensor = torch.as_tensor(normal, dtype=torch.float).to(device)\n",
    "attack_tensor = torch.as_tensor(attack, dtype=torch.float).to(device)\n",
    "\n",
    "print(\"attack_tensor.shape: \", attack.shape)\n",
    "print(\"normal.shape: \", normal.shape)\n",
    "print(\"x_train.shape: \", x_train.size())\n",
    "print(\"x_test.shape: \", x_test.size())"
   ]
  },
  {
   "cell_type": "code",
   "execution_count": 40,
   "metadata": {
    "colab": {
     "base_uri": "https://localhost:8080/",
     "height": 1000
    },
    "id": "l3F0RW_hDoRm",
    "outputId": "1a2a3b7a-bd9e-4810-b6fb-ad2e2dff3b2b"
   },
   "outputs": [
    {
     "name": "stdout",
     "output_type": "stream",
     "text": [
      "Encoder(\n",
      "  (l1): Linear(in_features=31, out_features=7, bias=True)\n",
      "  (l2): Linear(in_features=7, out_features=2, bias=True)\n",
      "  (acti): ELU(alpha=1.0)\n",
      ")\n",
      "Decoder(\n",
      "  (l1): Linear(in_features=2, out_features=7, bias=True)\n",
      "  (l2): Linear(in_features=7, out_features=31, bias=True)\n",
      "  (acti): ELU(alpha=1.0)\n",
      ")\n",
      "Epoch 1: train_loss: 4.55832022\t val_loss: 7.93845785\n",
      "Epoch 2: train_loss: 4.06480724\t val_loss: 7.83191586\n",
      "Epoch 3: train_loss: 4.05888234\t val_loss: 7.62277044\n",
      "Epoch 4: train_loss: 4.10755440\t val_loss: 8.67372245\n",
      "Epoch 5: train_loss: 4.09626532\t val_loss: 8.32532380\n",
      "Epoch 6: train_loss: 4.10800816\t val_loss: 8.32914273\n",
      "Epoch 7: train_loss: 4.17420807\t val_loss: 8.03672714\n",
      "Epoch 8: train_loss: 4.98681009\t val_loss: 5.70472286\n",
      "Epoch 9: train_loss: 4.87414093\t val_loss: 5.66174022\n",
      "Epoch 10: train_loss: 4.44561861\t val_loss: 6.20075909\n",
      "Epoch 11: train_loss: 4.20591363\t val_loss: 6.16846259\n",
      "Epoch 12: train_loss: 4.17439260\t val_loss: 6.14061028\n",
      "Epoch 13: train_loss: 4.19081837\t val_loss: 6.22870414\n",
      "Epoch 14: train_loss: 7.78323515\t val_loss: 8.30889073\n",
      "Epoch 15: train_loss: 6.86849630\t val_loss: 8.44764456\n",
      "Epoch 16: train_loss: 6.71491806\t val_loss: 8.29386471\n",
      "Epoch 17: train_loss: 6.60657893\t val_loss: 8.10290782\n",
      "Epoch 18: train_loss: 8.96390504\t val_loss: 10.08175190\n",
      "Epoch 19: train_loss: 7.96259591\t val_loss: 11.39552832\n",
      "Epoch 20: train_loss: 7.76450212\t val_loss: 12.03800860\n",
      "Epoch 21: train_loss: 7.70319617\t val_loss: 12.37304637\n",
      "Epoch 22: train_loss: 7.75434381\t val_loss: 12.55547290\n",
      "Epoch 23: train_loss: 7.72118389\t val_loss: 12.70491151\n",
      "Epoch 24: train_loss: 7.70735832\t val_loss: 12.83166087\n",
      "Epoch 25: train_loss: 7.69923556\t val_loss: 12.94195141\n"
     ]
    }
   ],
   "source": [
    "input_size = normal.shape[1]\n",
    "output_size = normal.shape[1]\n",
    "\n",
    "# hidden_size = 128\n",
    "# center_size = 256\n",
    "\n",
    "hidden_size = 7\n",
    "center_size = 2\n",
    "\n",
    "num_epochs = 25\n",
    "batch_size = 16\n",
    "lr = 0.01 #0.0005\n",
    "\n",
    "model = RecurrentAutoencoder(input_size, output_size, hidden_size, center_size).to(device)\n",
    "\n",
    "model, history = train_model(\n",
    "  model, \n",
    "  x_train, \n",
    "  x_test, \n",
    "  n_epochs=num_epochs,\n",
    "  batch_size=batch_size,\n",
    "  lr=lr)\n",
    "\n",
    "torch.save(model, 'model.pth')"
   ]
  },
  {
   "cell_type": "code",
   "execution_count": 41,
   "metadata": {
    "colab": {
     "base_uri": "https://localhost:8080/",
     "height": 295
    },
    "id": "B5aliXIJW5b7",
    "outputId": "ed5fdfe1-fb59-4e00-d8e2-7b013391b41c"
   },
   "outputs": [
    {
     "data": {
      "image/png": "[encoded data removed]",
      "text/plain": [
       "<Figure size 640x480 with 1 Axes>"
      ]
     },
     "metadata": {},
     "output_type": "display_data"
    }
   ],
   "source": [
    "ax = plt.figure().gca()\n",
    "\n",
    "ax.plot(history['train'][:])\n",
    "ax.plot(history['val'][:])\n",
    "plt.ylabel('Loss')\n",
    "plt.xlabel('Epoch')\n",
    "plt.legend(['train', 'test'])\n",
    "plt.title('Loss over training epochs')\n",
    "plt.show();"
   ]
  },
  {
   "cell_type": "code",
   "execution_count": 42,
   "metadata": {
    "id": "bdmQFImLW5Yf"
   },
   "outputs": [],
   "source": [
    "def predict(model, batch_size, dataset):\n",
    "  predictions, losses = [], []\n",
    "  # criterion = nn.MSELoss(reduction='sum').to(device) #L1Loss(reduction='sum').to(device)\n",
    "  criterion = nn.L1Loss(reduction='sum').to(device) #L1Loss(reduction='sum').to(device) # nn.SmoothL1Loss\n",
    "\n",
    "  with torch.no_grad():\n",
    "    model = model.eval()\n",
    "    # for seq_true in dataset:\n",
    "    for i in range(0, dataset.shape[0], batch_size):\n",
    "      seq_true = dataset[i:i+batch_size]\n",
    "      # seq_true = seq_true.to(device)\n",
    "      seq_pred = model(seq_true)\n",
    "\n",
    "      loss = criterion(seq_pred, seq_true)\n",
    "\n",
    "      predictions.append(seq_pred.cpu().numpy().flatten())\n",
    "      losses.append(loss.item())\n",
    "  return predictions, losses"
   ]
  },
  {
   "cell_type": "code",
   "execution_count": 43,
   "metadata": {
    "colab": {
     "base_uri": "https://localhost:8080/",
     "height": 35
    },
    "id": "JLBPGtGDW5Wg",
    "outputId": "76c38dcb-06c7-4754-dcc0-59cee3936816"
   },
   "outputs": [
    {
     "data": {
      "text/plain": [
       "torch.Size([83700, 31])"
      ]
     },
     "execution_count": 43,
     "metadata": {},
     "output_type": "execute_result"
    }
   ],
   "source": [
    "x_train.size()\n",
    "_, losses_train  = predict(model, batch_size, x_train)\n",
    "_, losses_test   = predict(model, batch_size, x_test)\n",
    "_, losses_attack = predict(model, batch_size, attack_tensor)\n",
    "_, losses_normal = predict(model, batch_size, normal_tensor)"
   ]
  },
  {
   "cell_type": "code",
   "execution_count": 44,
   "metadata": {
    "colab": {
     "base_uri": "https://localhost:8080/",
     "height": 265
    },
    "id": "JyftzVPjW5SM",
    "outputId": "89f62b92-c83b-45d9-f773-6b5d7d4f4e9f"
   },
   "outputs": [
    {
     "data": {
      "image/png": "[encoded data removed]",
      "text/plain": [
       "<Figure size 640x480 with 1 Axes>"
      ]
     },
     "metadata": {},
     "output_type": "display_data"
    }
   ],
   "source": [
    "import seaborn as sns\n",
    "# sns.distplot(losses, bins=50, kde=False);\n",
    "# sns.kdeplot(losses);\n",
    "# plt.hist(losses_train, bins=50);\n",
    "# plt.hist(losses_test, bins=50);\n",
    "# plt.hist(losses_attack, bins=50);\n",
    "# plt.hist(losses_normal, bins=50);\n",
    "\n",
    "sns.kdeplot(losses_normal, color='b');\n",
    "sns.kdeplot(losses_attack, color='r');\n",
    "# sns.distplot(losses_normal, bins=50, kde=True);\n",
    "# sns.distplot(losses_attack, bins=50, kde=True);"
   ]
  },
  {
   "cell_type": "code",
   "execution_count": 34,
   "metadata": {
    "id": "WJWvv6VgDfXt"
   },
   "outputs": [],
   "source": [
    "# losses_normal = (np.array(losses_normal) / 1000000000)\n",
    "# losses_attack = (np.array(losses_attack) / 1000000000)"
   ]
  },
  {
   "cell_type": "code",
   "execution_count": 45,
   "metadata": {
    "id": "-zlz6YORRlXf"
   },
   "outputs": [],
   "source": [
    "# Brute force compute cutoffs that maximize accuracy  \n",
    "lower = 23\n",
    "upper = 58\n",
    "\n",
    "lower_list = [lower + round(-3+(0.2*i),2) for i in range(31)] # [lower-1,lower-0.5,lower,lower+0.5,lower+1]\n",
    "upper_list = [upper + round(-3+(0.2*i),2) for i in range(31)] # [upper-1,upper-0.5,upper,upper+0.5,upper+1]\n",
    "ls_1 = []\n",
    "ls_2 = []\n",
    "\n",
    "for i in range(len(lower_list)):\n",
    "  lower = lower_list[i]\n",
    "  for i in range(len(upper_list)):\n",
    "    upper = upper_list[i]\n",
    "\n",
    "    all_attack = np.array(losses_attack)\n",
    "    TP = all_attack[(all_attack > lower) & (all_attack < upper)]\n",
    "    FN = all_attack[(all_attack <= lower) | (all_attack >= upper)]\n",
    "\n",
    "    all_normal = np.array(losses_normal)\n",
    "    FP = all_normal[(all_normal > lower) & (all_normal < upper)]\n",
    "    TN = all_normal[(all_normal <= lower) | (all_normal >= upper)]\n",
    "\n",
    "    ls_1.append((len(TP)+len(TN))/(len(TP)+len(TN)+len(FP)+len(FN)))\n",
    "    ls_2.append((lower, upper))"
   ]
  },
  {
   "cell_type": "code",
   "execution_count": 46,
   "metadata": {
    "colab": {
     "base_uri": "https://localhost:8080/",
     "height": 145
    },
    "id": "vP47kaFZRszs",
    "outputId": "32db6bae-0adf-497d-f6b6-089e3fb790b4"
   },
   "outputs": [
    {
     "name": "stdout",
     "output_type": "stream",
     "text": [
      "TP: 9656\n",
      "FN: 637\n",
      "TPR: 0.9381132808704945\n",
      "TN: 3840\n",
      "FP: 1973\n",
      "TNR: 0.6605883364871838\n",
      "Accuracy : 0.8379485905873587\n"
     ]
    }
   ],
   "source": [
    "idx = np.argmax(np.array(ls_1))\n",
    "# print(ls_1[idx])\n",
    "# print(ls_2[idx])\n",
    "lower = ls_2[idx][0]\n",
    "upper = ls_2[idx][1]\n",
    "\n",
    "all_attack = np.array(losses_attack)\n",
    "TP = all_attack[(all_attack > lower) & (all_attack < upper)]\n",
    "FN = all_attack[(all_attack <= lower) | (all_attack >= upper)]\n",
    "\n",
    "all_normal = np.array(losses_normal)\n",
    "FP = all_normal[(all_normal > lower) & (all_normal < upper)]\n",
    "TN = all_normal[(all_normal <= lower) | (all_normal >= upper)]\n",
    "\n",
    "ls_1.append((len(TP)+len(TN))/(len(TP)+len(TN)+len(FP)+len(FN)))\n",
    "ls_2.append((lower, upper))\n",
    "\n",
    "print(f'TP: {len(TP)}')\n",
    "print(f'FN: {len(FN)}')\n",
    "print(f'TPR: {len(TP)/(len(TP)+len(FN))}')\n",
    "\n",
    "print(f'TN: {len(TN)}')\n",
    "print(f'FP: {len(FP)}')\n",
    "print(f'TNR: {len(TN)/(len(TN)+len(FP))}')\n",
    "\n",
    "print(f'Accuracy : {(len(TP)+len(TN))/(len(TP)+len(TN)+len(FP)+len(FN))}')\n",
    "# https://en.wikipedia.org/wiki/Precision_and_recall#Imbalanced_data"
   ]
  },
  {
   "cell_type": "code",
   "execution_count": null,
   "metadata": {
    "id": "veFmAWFOR-dp"
   },
   "outputs": [],
   "source": []
  },
  {
   "cell_type": "code",
   "execution_count": null,
   "metadata": {
    "id": "6F92eikGSHkW"
   },
   "outputs": [],
   "source": []
  },
  {
   "cell_type": "code",
   "execution_count": null,
   "metadata": {
    "id": "8R6n6VMPSI3-"
   },
   "outputs": [],
   "source": []
  },
  {
   "cell_type": "code",
   "execution_count": null,
   "metadata": {},
   "outputs": [],
   "source": []
  }
 ],
 "metadata": {
  "accelerator": "GPU",
  "colab": {
   "collapsed_sections": [],
   "include_colab_link": true,
   "name": "UNSW Network Packet Classification - torch MLP and autoEncoder.ipynb",
   "provenance": []
  },
  "kernelspec": {
   "display_name": "myenv",
   "language": "python",
   "name": "python3"
  },
  "language_info": {
   "codemirror_mode": {
    "name": "ipython",
    "version": 3
   },
   "file_extension": ".py",
   "mimetype": "text/x-python",
   "name": "python",
   "nbconvert_exporter": "python",
   "pygments_lexer": "ipython3",
   "version": "3.12.3"
  }
 },
 "nbformat": 4,
 "nbformat_minor": 4
}
